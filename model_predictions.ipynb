{
 "cells": [
  {
   "cell_type": "markdown",
   "metadata": {},
   "source": [
    "# Model Predictions from ML Engine"
   ]
  },
  {
   "cell_type": "markdown",
   "metadata": {},
   "source": [
    "In this notebook we use our deployed TensorFlow model for prediction and compare the results with a classical Logistic Regression model."
   ]
  },
  {
   "cell_type": "markdown",
   "metadata": {},
   "source": [
    "### Read data from Cloud Storage"
   ]
  },
  {
   "cell_type": "code",
   "execution_count": 1,
   "metadata": {},
   "outputs": [],
   "source": [
    "# Get the project id\n",
    "import os\n",
    "project_id = os.environ['VM_PROJECT']"
   ]
  },
  {
   "cell_type": "code",
   "execution_count": 2,
   "metadata": {},
   "outputs": [],
   "source": [
    "# Read the train data from Cloud Storage\n",
    "%gcs read -o gs://$project_id-mlengine/data/bank_data_train.csv -v data_train_file"
   ]
  },
  {
   "cell_type": "code",
   "execution_count": 3,
   "metadata": {},
   "outputs": [],
   "source": [
    "# Read the evaluation data from Cloud Storage\n",
    "%gcs read -o gs://$project_id-mlengine/data/bank_data_eval.csv -v data_eval_file"
   ]
  },
  {
   "cell_type": "code",
   "execution_count": 4,
   "metadata": {},
   "outputs": [],
   "source": [
    "# Read the test data from Cloud Storage\n",
    "%gcs read -o gs://$project_id-mlengine/data/bank_data_test.csv -v data_test_file"
   ]
  },
  {
   "cell_type": "code",
   "execution_count": 5,
   "metadata": {},
   "outputs": [],
   "source": [
    "# Import necessary libraries for handling the data\n",
    "import pandas as pd\n",
    "import numpy as np\n",
    "from io import BytesIO"
   ]
  },
  {
   "cell_type": "code",
   "execution_count": 6,
   "metadata": {},
   "outputs": [],
   "source": [
    "# Read the data into pandas DataFrames\n",
    "columns = ['age', 'job', 'marital', 'education', 'default', 'housing', 'loan',\n",
    "           'contact', 'month', 'day_of_week', 'campaign', 'pdays', 'previous',\n",
    "           'poutcome', 'emp_var_rate', 'cons_price_idx', 'cons_conf_idx',\n",
    "           'euribor3m', 'nr_employed', 'y']\n",
    "data_train = pd.read_csv(BytesIO(data_train_file), names=columns)\n",
    "data_eval = pd.read_csv(BytesIO(data_eval_file), names=columns)\n",
    "data_test = pd.read_csv(BytesIO(data_test_file), names=columns)"
   ]
  },
  {
   "cell_type": "markdown",
   "metadata": {},
   "source": [
    "### Fit a Logistic Regression model"
   ]
  },
  {
   "cell_type": "code",
   "execution_count": 7,
   "metadata": {},
   "outputs": [
    {
     "data": {
      "text/html": [
       "<div>\n",
       "<style scoped>\n",
       "    .dataframe tbody tr th:only-of-type {\n",
       "        vertical-align: middle;\n",
       "    }\n",
       "\n",
       "    .dataframe tbody tr th {\n",
       "        vertical-align: top;\n",
       "    }\n",
       "\n",
       "    .dataframe thead th {\n",
       "        text-align: right;\n",
       "    }\n",
       "</style>\n",
       "<table border=\"1\" class=\"dataframe\">\n",
       "  <thead>\n",
       "    <tr style=\"text-align: right;\">\n",
       "      <th></th>\n",
       "      <th>age</th>\n",
       "      <th>job</th>\n",
       "      <th>marital</th>\n",
       "      <th>education</th>\n",
       "      <th>default</th>\n",
       "      <th>housing</th>\n",
       "      <th>loan</th>\n",
       "      <th>contact</th>\n",
       "      <th>month</th>\n",
       "      <th>day_of_week</th>\n",
       "      <th>campaign</th>\n",
       "      <th>pdays</th>\n",
       "      <th>previous</th>\n",
       "      <th>poutcome</th>\n",
       "      <th>emp_var_rate</th>\n",
       "      <th>cons_price_idx</th>\n",
       "      <th>cons_conf_idx</th>\n",
       "      <th>euribor3m</th>\n",
       "      <th>nr_employed</th>\n",
       "      <th>y</th>\n",
       "    </tr>\n",
       "  </thead>\n",
       "  <tbody>\n",
       "    <tr>\n",
       "      <th>0</th>\n",
       "      <td>44</td>\n",
       "      <td>blue-collar</td>\n",
       "      <td>married</td>\n",
       "      <td>professional.course</td>\n",
       "      <td>no</td>\n",
       "      <td>yes</td>\n",
       "      <td>yes</td>\n",
       "      <td>cellular</td>\n",
       "      <td>may</td>\n",
       "      <td>tue</td>\n",
       "      <td>-0.204059</td>\n",
       "      <td>0.197445</td>\n",
       "      <td>1.672169</td>\n",
       "      <td>failure</td>\n",
       "      <td>-1.199962</td>\n",
       "      <td>-1.176024</td>\n",
       "      <td>-1.230753</td>\n",
       "      <td>-1.361165</td>\n",
       "      <td>-0.948933</td>\n",
       "      <td>no</td>\n",
       "    </tr>\n",
       "    <tr>\n",
       "      <th>1</th>\n",
       "      <td>35</td>\n",
       "      <td>admin.</td>\n",
       "      <td>single</td>\n",
       "      <td>high.school</td>\n",
       "      <td>no</td>\n",
       "      <td>yes</td>\n",
       "      <td>no</td>\n",
       "      <td>cellular</td>\n",
       "      <td>nov</td>\n",
       "      <td>tue</td>\n",
       "      <td>-0.571394</td>\n",
       "      <td>0.197445</td>\n",
       "      <td>-0.349378</td>\n",
       "      <td>nonexistent</td>\n",
       "      <td>-0.116607</td>\n",
       "      <td>-0.645203</td>\n",
       "      <td>-0.321833</td>\n",
       "      <td>0.305574</td>\n",
       "      <td>0.395964</td>\n",
       "      <td>no</td>\n",
       "    </tr>\n",
       "    <tr>\n",
       "      <th>2</th>\n",
       "      <td>54</td>\n",
       "      <td>services</td>\n",
       "      <td>married</td>\n",
       "      <td>high.school</td>\n",
       "      <td>no</td>\n",
       "      <td>no</td>\n",
       "      <td>no</td>\n",
       "      <td>cellular</td>\n",
       "      <td>aug</td>\n",
       "      <td>tue</td>\n",
       "      <td>0.530610</td>\n",
       "      <td>0.197445</td>\n",
       "      <td>-0.349378</td>\n",
       "      <td>nonexistent</td>\n",
       "      <td>0.839294</td>\n",
       "      <td>-0.223312</td>\n",
       "      <td>0.954984</td>\n",
       "      <td>0.774939</td>\n",
       "      <td>0.845190</td>\n",
       "      <td>no</td>\n",
       "    </tr>\n",
       "    <tr>\n",
       "      <th>3</th>\n",
       "      <td>60</td>\n",
       "      <td>technician</td>\n",
       "      <td>divorced</td>\n",
       "      <td>professional.course</td>\n",
       "      <td>unknown</td>\n",
       "      <td>no</td>\n",
       "      <td>no</td>\n",
       "      <td>telephone</td>\n",
       "      <td>jun</td>\n",
       "      <td>wed</td>\n",
       "      <td>-0.571394</td>\n",
       "      <td>0.197445</td>\n",
       "      <td>-0.349378</td>\n",
       "      <td>nonexistent</td>\n",
       "      <td>0.839294</td>\n",
       "      <td>1.542060</td>\n",
       "      <td>-0.278551</td>\n",
       "      <td>0.770898</td>\n",
       "      <td>0.845190</td>\n",
       "      <td>no</td>\n",
       "    </tr>\n",
       "    <tr>\n",
       "      <th>4</th>\n",
       "      <td>42</td>\n",
       "      <td>blue-collar</td>\n",
       "      <td>married</td>\n",
       "      <td>basic.6y</td>\n",
       "      <td>unknown</td>\n",
       "      <td>no</td>\n",
       "      <td>no</td>\n",
       "      <td>telephone</td>\n",
       "      <td>may</td>\n",
       "      <td>thu</td>\n",
       "      <td>-0.571394</td>\n",
       "      <td>0.197445</td>\n",
       "      <td>-0.349378</td>\n",
       "      <td>nonexistent</td>\n",
       "      <td>0.648114</td>\n",
       "      <td>0.727672</td>\n",
       "      <td>0.890061</td>\n",
       "      <td>0.713743</td>\n",
       "      <td>0.329206</td>\n",
       "      <td>no</td>\n",
       "    </tr>\n",
       "  </tbody>\n",
       "</table>\n",
       "</div>"
      ],
      "text/plain": [
       "   age          job   marital            education  default housing loan  \\\n",
       "0   44  blue-collar   married  professional.course       no     yes  yes   \n",
       "1   35       admin.    single          high.school       no     yes   no   \n",
       "2   54     services   married          high.school       no      no   no   \n",
       "3   60   technician  divorced  professional.course  unknown      no   no   \n",
       "4   42  blue-collar   married             basic.6y  unknown      no   no   \n",
       "\n",
       "     contact month day_of_week  campaign     pdays  previous     poutcome  \\\n",
       "0   cellular   may         tue -0.204059  0.197445  1.672169      failure   \n",
       "1   cellular   nov         tue -0.571394  0.197445 -0.349378  nonexistent   \n",
       "2   cellular   aug         tue  0.530610  0.197445 -0.349378  nonexistent   \n",
       "3  telephone   jun         wed -0.571394  0.197445 -0.349378  nonexistent   \n",
       "4  telephone   may         thu -0.571394  0.197445 -0.349378  nonexistent   \n",
       "\n",
       "   emp_var_rate  cons_price_idx  cons_conf_idx  euribor3m  nr_employed   y  \n",
       "0     -1.199962       -1.176024      -1.230753  -1.361165    -0.948933  no  \n",
       "1     -0.116607       -0.645203      -0.321833   0.305574     0.395964  no  \n",
       "2      0.839294       -0.223312       0.954984   0.774939     0.845190  no  \n",
       "3      0.839294        1.542060      -0.278551   0.770898     0.845190  no  \n",
       "4      0.648114        0.727672       0.890061   0.713743     0.329206  no  "
      ]
     },
     "execution_count": 7,
     "metadata": {},
     "output_type": "execute_result"
    }
   ],
   "source": [
    "# View the data to select columns for logistic regression\n",
    "data_train.head()"
   ]
  },
  {
   "cell_type": "code",
   "execution_count": 8,
   "metadata": {},
   "outputs": [],
   "source": [
    "# For convenience, select the normalized numeric columns\n",
    "selected_columns = ['campaign', 'pdays', 'previous', 'emp_var_rate', 'cons_price_idx', 'cons_conf_idx', 'euribor3m', 'nr_employed']"
   ]
  },
  {
   "cell_type": "code",
   "execution_count": 9,
   "metadata": {},
   "outputs": [],
   "source": [
    "# Combine training and evaluation data for cross-validation\n",
    "data_train_eval = pd.concat([data_train, data_eval])\n",
    "\n",
    "X_train = data_train_eval[selected_columns]\n",
    "X_test = data_test[selected_columns]\n",
    "\n",
    "y_train = data_train_eval['y'].map({'no': 0, 'yes': 1})\n",
    "y_test = data_test['y'].map({'no': 0, 'yes': 1})"
   ]
  },
  {
   "cell_type": "code",
   "execution_count": 10,
   "metadata": {},
   "outputs": [
    {
     "data": {
      "text/plain": [
       "GridSearchCV(cv=StratifiedKFold(n_splits=5, random_state=None, shuffle=True),\n",
       "       error_score='raise',\n",
       "       estimator=LogisticRegression(C=1.0, class_weight=None, dual=False, fit_intercept=True,\n",
       "          intercept_scaling=1, max_iter=100, multi_class='ovr', n_jobs=1,\n",
       "          penalty='l2', random_state=None, solver='liblinear', tol=0.0001,\n",
       "          verbose=0, warm_start=False),\n",
       "       fit_params=None, iid=True, n_jobs=1,\n",
       "       param_grid={'class_weight': [None, 'balanced'], 'C': [0.1, 0.5, 1.0, 5.0, 10.0]},\n",
       "       pre_dispatch='2*n_jobs', refit=True, return_train_score='warn',\n",
       "       scoring='f1', verbose=0)"
      ]
     },
     "execution_count": 10,
     "metadata": {},
     "output_type": "execute_result"
    }
   ],
   "source": [
    "from sklearn.linear_model import LogisticRegression\n",
    "from sklearn.model_selection import GridSearchCV, StratifiedKFold\n",
    "\n",
    "# List parameter ranges to be explored\n",
    "parameters = {'C': [0.1, 0.5, 1.0, 5.0, 10.0], 'class_weight': [None, 'balanced']}\n",
    "lr = LogisticRegression()\n",
    "\n",
    "# Perform grid search over parameter ranges using stratified K-fold\n",
    "clf = GridSearchCV(lr, parameters, scoring='f1', cv=StratifiedKFold(5, shuffle=True))\n",
    "clf.fit(X_train, y_train)"
   ]
  },
  {
   "cell_type": "code",
   "execution_count": 11,
   "metadata": {},
   "outputs": [
    {
     "name": "stdout",
     "output_type": "stream",
     "text": [
      "Highest f1-score: 0.38\n"
     ]
    }
   ],
   "source": [
    "print('Highest f1-score:', np.round(clf.best_score_,2))"
   ]
  },
  {
   "cell_type": "code",
   "execution_count": 12,
   "metadata": {},
   "outputs": [],
   "source": [
    "# Choose the model with best parameters\n",
    "lr = clf.best_estimator_"
   ]
  },
  {
   "cell_type": "code",
   "execution_count": 13,
   "metadata": {},
   "outputs": [],
   "source": [
    "from sklearn.metrics import confusion_matrix, auc, precision_recall_curve"
   ]
  },
  {
   "cell_type": "code",
   "execution_count": 14,
   "metadata": {},
   "outputs": [],
   "source": [
    "y_pred = lr.predict(X_test)\n",
    "y_pred_proba = lr.predict_proba(X_test)"
   ]
  },
  {
   "cell_type": "code",
   "execution_count": 15,
   "metadata": {},
   "outputs": [
    {
     "data": {
      "text/plain": [
       "0.41233296836283534"
      ]
     },
     "execution_count": 15,
     "metadata": {},
     "output_type": "execute_result"
    }
   ],
   "source": [
    "# Calculate the area under precision-recall curve\n",
    "precision, recall, _ = precision_recall_curve(y_test, y_pred_proba[:,1])\n",
    "auc(recall, precision)"
   ]
  },
  {
   "cell_type": "code",
   "execution_count": 16,
   "metadata": {},
   "outputs": [
    {
     "data": {
      "text/plain": [
       "array([[280,  86],\n",
       "       [ 14,  32]])"
      ]
     },
     "execution_count": 16,
     "metadata": {},
     "output_type": "execute_result"
    }
   ],
   "source": [
    "# Form the confusion matrix\n",
    "confusion_matrix(y_test, y_pred)"
   ]
  },
  {
   "cell_type": "markdown",
   "metadata": {},
   "source": [
    "### ML Engine"
   ]
  },
  {
   "cell_type": "code",
   "execution_count": 17,
   "metadata": {},
   "outputs": [],
   "source": [
    "# Import the API client\n",
    "from googleapiclient import discovery\n",
    "\n",
    "ml = discovery.build('ml','v1')"
   ]
  },
  {
   "cell_type": "code",
   "execution_count": 18,
   "metadata": {},
   "outputs": [
    {
     "data": {
      "text/html": [
       "<div>\n",
       "<style scoped>\n",
       "    .dataframe tbody tr th:only-of-type {\n",
       "        vertical-align: middle;\n",
       "    }\n",
       "\n",
       "    .dataframe tbody tr th {\n",
       "        vertical-align: top;\n",
       "    }\n",
       "\n",
       "    .dataframe thead th {\n",
       "        text-align: right;\n",
       "    }\n",
       "</style>\n",
       "<table border=\"1\" class=\"dataframe\">\n",
       "  <thead>\n",
       "    <tr style=\"text-align: right;\">\n",
       "      <th></th>\n",
       "      <th>age</th>\n",
       "      <th>job</th>\n",
       "      <th>marital</th>\n",
       "      <th>education</th>\n",
       "      <th>default</th>\n",
       "      <th>housing</th>\n",
       "      <th>loan</th>\n",
       "      <th>contact</th>\n",
       "      <th>month</th>\n",
       "      <th>day_of_week</th>\n",
       "      <th>campaign</th>\n",
       "      <th>pdays</th>\n",
       "      <th>previous</th>\n",
       "      <th>poutcome</th>\n",
       "      <th>emp_var_rate</th>\n",
       "      <th>cons_price_idx</th>\n",
       "      <th>cons_conf_idx</th>\n",
       "      <th>euribor3m</th>\n",
       "      <th>nr_employed</th>\n",
       "      <th>y</th>\n",
       "    </tr>\n",
       "  </thead>\n",
       "  <tbody>\n",
       "    <tr>\n",
       "      <th>0</th>\n",
       "      <td>35</td>\n",
       "      <td>technician</td>\n",
       "      <td>single</td>\n",
       "      <td>professional.course</td>\n",
       "      <td>no</td>\n",
       "      <td>yes</td>\n",
       "      <td>no</td>\n",
       "      <td>cellular</td>\n",
       "      <td>may</td>\n",
       "      <td>thu</td>\n",
       "      <td>-0.571394</td>\n",
       "      <td>0.197445</td>\n",
       "      <td>-0.349378</td>\n",
       "      <td>nonexistent</td>\n",
       "      <td>-1.199962</td>\n",
       "      <td>-1.176024</td>\n",
       "      <td>-1.230753</td>\n",
       "      <td>-1.325948</td>\n",
       "      <td>-0.948933</td>\n",
       "      <td>no</td>\n",
       "    </tr>\n",
       "    <tr>\n",
       "      <th>1</th>\n",
       "      <td>36</td>\n",
       "      <td>admin.</td>\n",
       "      <td>married</td>\n",
       "      <td>university.degree</td>\n",
       "      <td>no</td>\n",
       "      <td>yes</td>\n",
       "      <td>yes</td>\n",
       "      <td>telephone</td>\n",
       "      <td>may</td>\n",
       "      <td>thu</td>\n",
       "      <td>0.163276</td>\n",
       "      <td>0.197445</td>\n",
       "      <td>-0.349378</td>\n",
       "      <td>nonexistent</td>\n",
       "      <td>0.648114</td>\n",
       "      <td>0.727672</td>\n",
       "      <td>0.890061</td>\n",
       "      <td>0.713743</td>\n",
       "      <td>0.329206</td>\n",
       "      <td>no</td>\n",
       "    </tr>\n",
       "    <tr>\n",
       "      <th>2</th>\n",
       "      <td>42</td>\n",
       "      <td>blue-collar</td>\n",
       "      <td>married</td>\n",
       "      <td>basic.9y</td>\n",
       "      <td>unknown</td>\n",
       "      <td>no</td>\n",
       "      <td>no</td>\n",
       "      <td>telephone</td>\n",
       "      <td>may</td>\n",
       "      <td>mon</td>\n",
       "      <td>0.163276</td>\n",
       "      <td>0.197445</td>\n",
       "      <td>-0.349378</td>\n",
       "      <td>nonexistent</td>\n",
       "      <td>0.648114</td>\n",
       "      <td>0.727672</td>\n",
       "      <td>0.890061</td>\n",
       "      <td>0.712011</td>\n",
       "      <td>0.329206</td>\n",
       "      <td>no</td>\n",
       "    </tr>\n",
       "    <tr>\n",
       "      <th>3</th>\n",
       "      <td>26</td>\n",
       "      <td>self-employed</td>\n",
       "      <td>single</td>\n",
       "      <td>university.degree</td>\n",
       "      <td>no</td>\n",
       "      <td>no</td>\n",
       "      <td>no</td>\n",
       "      <td>cellular</td>\n",
       "      <td>may</td>\n",
       "      <td>fri</td>\n",
       "      <td>0.163276</td>\n",
       "      <td>0.197445</td>\n",
       "      <td>-0.349378</td>\n",
       "      <td>nonexistent</td>\n",
       "      <td>-1.199962</td>\n",
       "      <td>-1.176024</td>\n",
       "      <td>-1.230753</td>\n",
       "      <td>-1.370402</td>\n",
       "      <td>-0.948933</td>\n",
       "      <td>no</td>\n",
       "    </tr>\n",
       "    <tr>\n",
       "      <th>4</th>\n",
       "      <td>38</td>\n",
       "      <td>admin.</td>\n",
       "      <td>single</td>\n",
       "      <td>basic.9y</td>\n",
       "      <td>unknown</td>\n",
       "      <td>yes</td>\n",
       "      <td>no</td>\n",
       "      <td>telephone</td>\n",
       "      <td>jun</td>\n",
       "      <td>wed</td>\n",
       "      <td>0.897945</td>\n",
       "      <td>0.197445</td>\n",
       "      <td>-0.349378</td>\n",
       "      <td>nonexistent</td>\n",
       "      <td>0.839294</td>\n",
       "      <td>1.542060</td>\n",
       "      <td>-0.278551</td>\n",
       "      <td>0.772630</td>\n",
       "      <td>0.845190</td>\n",
       "      <td>no</td>\n",
       "    </tr>\n",
       "  </tbody>\n",
       "</table>\n",
       "</div>"
      ],
      "text/plain": [
       "   age            job  marital            education  default housing loan  \\\n",
       "0   35     technician   single  professional.course       no     yes   no   \n",
       "1   36         admin.  married    university.degree       no     yes  yes   \n",
       "2   42    blue-collar  married             basic.9y  unknown      no   no   \n",
       "3   26  self-employed   single    university.degree       no      no   no   \n",
       "4   38         admin.   single             basic.9y  unknown     yes   no   \n",
       "\n",
       "     contact month day_of_week  campaign     pdays  previous     poutcome  \\\n",
       "0   cellular   may         thu -0.571394  0.197445 -0.349378  nonexistent   \n",
       "1  telephone   may         thu  0.163276  0.197445 -0.349378  nonexistent   \n",
       "2  telephone   may         mon  0.163276  0.197445 -0.349378  nonexistent   \n",
       "3   cellular   may         fri  0.163276  0.197445 -0.349378  nonexistent   \n",
       "4  telephone   jun         wed  0.897945  0.197445 -0.349378  nonexistent   \n",
       "\n",
       "   emp_var_rate  cons_price_idx  cons_conf_idx  euribor3m  nr_employed   y  \n",
       "0     -1.199962       -1.176024      -1.230753  -1.325948    -0.948933  no  \n",
       "1      0.648114        0.727672       0.890061   0.713743     0.329206  no  \n",
       "2      0.648114        0.727672       0.890061   0.712011     0.329206  no  \n",
       "3     -1.199962       -1.176024      -1.230753  -1.370402    -0.948933  no  \n",
       "4      0.839294        1.542060      -0.278551   0.772630     0.845190  no  "
      ]
     },
     "execution_count": 18,
     "metadata": {},
     "output_type": "execute_result"
    }
   ],
   "source": [
    "data_test.head()"
   ]
  },
  {
   "cell_type": "code",
   "execution_count": 19,
   "metadata": {},
   "outputs": [
    {
     "data": {
      "text/plain": [
       "[{'age': 35,\n",
       "  'campaign': -0.571393844537291,\n",
       "  'cons_conf_idx': -1.2307531731913108,\n",
       "  'cons_price_idx': -1.176024467957052,\n",
       "  'contact': 'cellular',\n",
       "  'day_of_week': 'thu',\n",
       "  'default': 'no',\n",
       "  'education': 'professional.course',\n",
       "  'emp_var_rate': -1.1999622087139987,\n",
       "  'euribor3m': -1.3259478549686754,\n",
       "  'housing': 'yes',\n",
       "  'job': 'technician',\n",
       "  'loan': 'no',\n",
       "  'marital': 'single',\n",
       "  'month': 'may',\n",
       "  'nr_employed': -0.9489332739923321,\n",
       "  'pdays': 0.19744502733362396,\n",
       "  'poutcome': 'nonexistent',\n",
       "  'previous': -0.34937785043730324},\n",
       " {'age': 36,\n",
       "  'campaign': 0.16327560768586266,\n",
       "  'cons_conf_idx': 0.8900613289070047,\n",
       "  'cons_price_idx': 0.72767221802066,\n",
       "  'contact': 'telephone',\n",
       "  'day_of_week': 'thu',\n",
       "  'default': 'no',\n",
       "  'education': 'university.degree',\n",
       "  'emp_var_rate': 0.6481138647658136,\n",
       "  'euribor3m': 0.7137429064053495,\n",
       "  'housing': 'yes',\n",
       "  'job': 'admin.',\n",
       "  'loan': 'yes',\n",
       "  'marital': 'married',\n",
       "  'month': 'may',\n",
       "  'nr_employed': 0.3292059916394463,\n",
       "  'pdays': 0.19744502733362396,\n",
       "  'poutcome': 'nonexistent',\n",
       "  'previous': -0.34937785043730324}]"
      ]
     },
     "execution_count": 19,
     "metadata": {},
     "output_type": "execute_result"
    }
   ],
   "source": [
    "# Data is submitted for prediction as a dictionary\n",
    "data_test.drop(columns='y').loc[0:1].to_dict(orient='records')"
   ]
  },
  {
   "cell_type": "code",
   "execution_count": 20,
   "metadata": {},
   "outputs": [],
   "source": [
    "# Form the API request\n",
    "instances = data_test.drop(columns='y').to_dict(orient='records')\n",
    "request = {'instances': instances}"
   ]
  },
  {
   "cell_type": "code",
   "execution_count": 21,
   "metadata": {},
   "outputs": [],
   "source": [
    "# Call the API for predictions\n",
    "response = ml.projects().predict(name='projects/mlengine-example/models/bank_marketing', body=request).execute()"
   ]
  },
  {
   "cell_type": "code",
   "execution_count": 22,
   "metadata": {},
   "outputs": [
    {
     "data": {
      "text/plain": [
       "412"
      ]
     },
     "execution_count": 22,
     "metadata": {},
     "output_type": "execute_result"
    }
   ],
   "source": [
    "# Inspect the response\n",
    "len(response['predictions'])"
   ]
  },
  {
   "cell_type": "code",
   "execution_count": 23,
   "metadata": {},
   "outputs": [
    {
     "data": {
      "text/plain": [
       "[{'class_ids': [0],\n",
       "  'classes': ['0'],\n",
       "  'logistic': [0.05924775451421738],\n",
       "  'logits': [-2.7649519443511963],\n",
       "  'probabilities': [0.9407522678375244, 0.05924775451421738]},\n",
       " {'class_ids': [0],\n",
       "  'classes': ['0'],\n",
       "  'logistic': [0.030696040019392967],\n",
       "  'logits': [-3.452444553375244],\n",
       "  'probabilities': [0.9693039059638977, 0.030696038156747818]}]"
      ]
     },
     "execution_count": 23,
     "metadata": {},
     "output_type": "execute_result"
    }
   ],
   "source": [
    "# Inspect the response further\n",
    "response['predictions'][:2]"
   ]
  },
  {
   "cell_type": "code",
   "execution_count": 24,
   "metadata": {},
   "outputs": [],
   "source": [
    "# Extract the prediction probabilities\n",
    "pred_proba = np.array([response['predictions'][i]['probabilities'] for i in range(len(response['predictions']))])"
   ]
  },
  {
   "cell_type": "code",
   "execution_count": 25,
   "metadata": {},
   "outputs": [
    {
     "data": {
      "text/plain": [
       "0.5042307942702203"
      ]
     },
     "execution_count": 25,
     "metadata": {},
     "output_type": "execute_result"
    }
   ],
   "source": [
    "# Calculate the area under precision-recall curve\n",
    "precision_test, recall_test, _ = precision_recall_curve(y_test, pred_proba[:,1])\n",
    "auc(recall_test, precision_test)"
   ]
  },
  {
   "cell_type": "code",
   "execution_count": 26,
   "metadata": {},
   "outputs": [
    {
     "data": {
      "text/plain": [
       "array([[354,  12],\n",
       "       [ 29,  17]])"
      ]
     },
     "execution_count": 26,
     "metadata": {},
     "output_type": "execute_result"
    }
   ],
   "source": [
    "# Form the confusion matrix\n",
    "pred = np.array([response['predictions'][i]['class_ids'] for i in range(len(response['predictions']))])\n",
    "confusion_matrix(y_test, pred)"
   ]
  },
  {
   "cell_type": "code",
   "execution_count": null,
   "metadata": {},
   "outputs": [],
   "source": []
  }
 ],
 "metadata": {
  "kernelspec": {
   "display_name": "Python 3",
   "language": "python",
   "name": "python3"
  },
  "language_info": {
   "codemirror_mode": {
    "name": "ipython",
    "version": 3
   },
   "file_extension": ".py",
   "mimetype": "text/x-python",
   "name": "python",
   "nbconvert_exporter": "python",
   "pygments_lexer": "ipython3",
   "version": "3.5.5"
  }
 },
 "nbformat": 4,
 "nbformat_minor": 2
}
